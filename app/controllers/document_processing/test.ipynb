{
 "cells": [
  {
   "cell_type": "code",
   "execution_count": 2,
   "metadata": {},
   "outputs": [
    {
     "name": "stdout",
     "output_type": "stream",
     "text": [
      "Processing document: 10K-2024.pdf\n",
      "Blob '10K-2024.pdf' already exists in the index. No action taken.\n",
      "Processing document: 10K-2023.pdf\n",
      "Blob '10K-2023.pdf' already exists in the index. No action taken.\n",
      "|                              | FY 2023     | FY 2024     |\n",
      "|------------------------------|-------------|-------------|\n",
      "| Home Accents and Bed and Bath| 4860914.0   | 5298005.0   |\n",
      "| Ladies                       | 4487000.0   | 4685697.0   |\n",
      "| Men's                        | 2804374.0   | 3056541.0   |\n",
      "| Accessories, Lingerie, Fine Jewelry, and Cosmetics | 2617416.0   | 3056541.0   |\n",
      "| Shoes                        | 2243499.0   | 2648002.0   |\n",
      "| Children's                   | 1682624.0   | 1630154.0   |\n",
      "| Total Revenue                | 18695829.0  | 20376941.0  |\n",
      "| Cost of Goods Sold (COGS)    | (13946230.0)| (14801601.0)|\n",
      "| Gross Profit                 | 4749599.0   | 5575340.0   |\n",
      "| Selling, General, Administrative Expenses | (2759268.0)   | (3267677.0)   |\n",
      "| Operating Income             | 1990331.0   | 2307663.0   |\n",
      "| Interest Expense             | (86226.0)   | (86195.0)   |\n",
      "| Interest Income              | 77706.0     | 238207.0    |\n",
      "| Other Non-Operating Items    |             | (12106.0)   |\n",
      "| Pre-Tax Income               | 1987489.0   | 2471781.0   |\n",
      "| Income Tax Expense           | (475448.0)  | (597261.0)  |\n",
      "| Net Income                   | 1512041.0   | 1874520.0   |\n",
      "Excel file 'aggregated_income_statement.xlsx' successfully uploaded to Azure Blob Storage.\n"
     ]
    }
   ],
   "source": [
    "import os\n",
    "os.chdir(\"/Users/atang/Documents/bpc-spg/financial-scraper-server\")\n",
    "from app.controllers.document_processing.document_processing import process_documents\n",
    "results = process_documents(\n",
    "    blob_names=[\"10K-2024.pdf\", \"10K-2023.pdf\"]\n",
    ")"
   ]
  },
  {
   "cell_type": "code",
   "execution_count": null,
   "metadata": {},
   "outputs": [],
   "source": []
  }
 ],
 "metadata": {
  "kernelspec": {
   "display_name": "venv",
   "language": "python",
   "name": "python3"
  },
  "language_info": {
   "codemirror_mode": {
    "name": "ipython",
    "version": 3
   },
   "file_extension": ".py",
   "mimetype": "text/x-python",
   "name": "python",
   "nbconvert_exporter": "python",
   "pygments_lexer": "ipython3",
   "version": "3.11.7"
  }
 },
 "nbformat": 4,
 "nbformat_minor": 2
}
