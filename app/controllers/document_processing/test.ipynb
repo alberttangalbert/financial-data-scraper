{
 "cells": [
  {
   "cell_type": "code",
   "execution_count": 2,
   "metadata": {},
   "outputs": [
    {
     "name": "stdout",
     "output_type": "stream",
     "text": [
      "Processing document: 10K-2024.pdf\n",
      "Blob '10K-2024.pdf' already exists in the index. No action taken.\n",
      "Processing document: 10K-2023.pdf\n",
      "Blob '10K-2023.pdf' already exists in the index. No action taken.\n",
      "|                              | FY 2023     | FY 2024     |\n",
      "|------------------------------|-------------|-------------|\n",
      "| Home Accents and Bed and Bath| 4860914.0   | 5298005.0   |\n",
      "| Ladies                       | 4487000.0   | 4685697.0   |\n",
      "| Men's                        | 2804374.0   | 3056541.0   |\n",
      "| Accessories, Lingerie, Fine Jewelry, and Cosmetics | 2617416.0   | 3056541.0   |\n",
      "| Shoes                        | 2243499.0   | 2648002.0   |\n",
      "| Children's                   | 1682624.0   | 1630154.0   |\n",
      "| Total Revenue                | 18695829.0  | 20376941.0  |\n",
      "| Cost of Goods Sold (COGS)    | (13946230.0)| (14801601.0)|\n",
      "| Gross Profit                 | 4749599.0   | 5575340.0   |\n",
      "| Selling, General, Administrative Expenses | (2759268.0)   | (3267677.0)   |\n",
      "| Operating Income             | 1990331.0   | 2307663.0   |\n",
      "| Interest Expense             | (86226.0)   | (86195.0)   |\n",
      "| Interest Income              | 77706.0     | 238207.0    |\n",
      "| Other Non-Operating Items    |             | (12106.0)   |\n",
      "| Pre-Tax Income               | 1987489.0   | 2471781.0   |\n",
      "| Income Tax Expense           | (475448.0)  | (597261.0)  |\n",
      "| Net Income                   | 1512041.0   | 1874520.0   |\n",
      "Excel file 'aggregated_income_statement.xlsx' successfully uploaded to Azure Blob Storage.\n"
     ]
    }
   ],
   "source": [
    "import os\n",
    "os.chdir(\"/Users/atang/Documents/bpc-spg/financial-scraper-server\")\n",
    "from app.controllers.document_processing.document_processing import process_documents\n",
    "results = process_documents(\n",
    "    blob_names=[\"10K-2024.pdf\", \"10K-2023.pdf\"]\n",
    ")"
   ]
  },
  {
   "cell_type": "code",
   "execution_count": 1,
   "metadata": {},
   "outputs": [
    {
     "name": "stdout",
     "output_type": "stream",
     "text": [
      "                                                          FY 2020     FY 2023\n",
      "0                       Home Accents and Bed and Bath   5297005.0   4860916.0\n",
      "1                                              Ladies   4686697.0   4487000.0\n",
      "2                                               Men's   3056541.0   2804374.0\n",
      "3   Accessories, Lingerie, Fine Jewelry, and Cosme...   3056541.0   2617416.0\n",
      "4                                               Shoes   2648883.0   2243499.0\n",
      "5                                          Children's   1630155.0   1682624.0\n",
      "6                                       Total Revenue  20376941.0  18695829.0\n",
      "7                                  Cost of Goods Sold -14801601.0 -13946230.0\n",
      "8                                        Gross Profit   5575340.0   4749599.0\n",
      "9                                    Selling Expenses  -1859193.0         NaN\n",
      "10      Selling, General, and Administrative Expenses         NaN  -2759268.0\n",
      "11                               Operating Lease Cost         NaN   -721340.0\n",
      "12                                Restructuring Costs    158209.0    123949.0\n",
      "13                                   Operating Income   2465872.0   1392940.0\n",
      "14                                   Interest Expense    -86195.0    -85226.0\n",
      "15                                    Interest Income    238207.0     77706.0\n",
      "16                          Other Non-Operating Items   -145924.0     -2931.0\n",
      "17                                     Pre-Tax Income   2471781.0   1382489.0\n",
      "18                                 Income Tax Expense   -597261.0   -475448.0\n",
      "19                                         Net Income   1874520.0    907041.0\n"
     ]
    }
   ],
   "source": [
    "import os\n",
    "os.chdir(\"/Users/atang/Documents/bpc-spg/financial-scraper-server\")\n",
    "from app.controllers.document_processing.utils import doc_intel_utils, general_utils, openai_utils, cog_search_utils\n",
    "\n",
    "response = \"\"\"\n",
    "Processing document: 10K-2024.pdf\n",
    "Blob '10K-2024.pdf' already exists in the index. No action taken.\n",
    "Processing document: 10K-2023.pdf\n",
    "Blob '10K-2023.pdf' already exists in the index. No action taken.\n",
    "|                       | FY 2020     | FY 2023     |\n",
    "|-----------------------|-------------|-------------|\n",
    "| Home Accents and Bed and Bath | 5,297,005   | 4,860,916   |\n",
    "| Ladies                | 4,686,697   | 4,487,000   |\n",
    "| Men's                 | 3,056,541   | 2,804,374   |\n",
    "| Accessories, Lingerie, Fine Jewelry, and Cosmetics | 3,056,541   | 2,617,416   |\n",
    "| Shoes                 | 2,648,883   | 2,243,499   |\n",
    "| Children's            | 1,630,155   | 1,682,624   |\n",
    "| Total Revenue         | 20,376,941  | 18,695,829  |\n",
    "| Cost of Goods Sold    | (14,801,601)| (13,946,230)|\n",
    "| Gross Profit          | 5,575,340   | 4,749,599   |\n",
    "| Selling Expenses      | (1,859,193) |             |\n",
    "| Selling, General, and Administrative Expenses |             | (2,759,268) |\n",
    "| Operating Lease Cost  |             | (721,340)   |\n",
    "| Restructuring Costs   | 158,209     | 123,949     |\n",
    "| Operating Income      | 2,465,872   | 1,392,940   |\n",
    "| Interest Expense      | (86,195)    | (85,226)    |\n",
    "| Interest Income       | 238,207     | 77,706      |\n",
    "| Other Non-Operating Items | (145,924)   | (2,931)     |\n",
    "| Pre-Tax Income        | 2,471,781   | 1,382,489   |\n",
    "| Income Tax Expense    | (597,261)   | (475,448)   |\n",
    "| Net Income            | 1,874,520   | 907,041     |\n",
    "\"\"\"\n",
    "\n",
    "print(general_utils.parse_table_from_response(response))"
   ]
  },
  {
   "cell_type": "code",
   "execution_count": null,
   "metadata": {},
   "outputs": [],
   "source": []
  }
 ],
 "metadata": {
  "kernelspec": {
   "display_name": "venv",
   "language": "python",
   "name": "python3"
  },
  "language_info": {
   "codemirror_mode": {
    "name": "ipython",
    "version": 3
   },
   "file_extension": ".py",
   "mimetype": "text/x-python",
   "name": "python",
   "nbconvert_exporter": "python",
   "pygments_lexer": "ipython3",
   "version": "3.11.7"
  }
 },
 "nbformat": 4,
 "nbformat_minor": 2
}
